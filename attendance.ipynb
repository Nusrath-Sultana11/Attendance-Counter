{
 "cells": [
  {
   "cell_type": "code",
   "execution_count": 1,
   "id": "f16ba942",
   "metadata": {},
   "outputs": [],
   "source": [
    "import cv2\n",
    "import numpy as np\n",
    "import face_recognition"
   ]
  },
  {
   "cell_type": "code",
   "execution_count": 2,
   "id": "ffa946e2",
   "metadata": {},
   "outputs": [],
   "source": [
    "import os"
   ]
  },
  {
   "cell_type": "code",
   "execution_count": 3,
   "id": "b555ee6d",
   "metadata": {},
   "outputs": [],
   "source": [
    "path ='Attendance_Images'"
   ]
  },
  {
   "cell_type": "code",
   "execution_count": 4,
   "id": "27d0a444",
   "metadata": {},
   "outputs": [],
   "source": [
    "images = []\n",
    "classNames = []"
   ]
  },
  {
   "cell_type": "code",
   "execution_count": 5,
   "id": "60b61b4e",
   "metadata": {},
   "outputs": [
    {
     "name": "stdout",
     "output_type": "stream",
     "text": [
      "['Billgates.jpg', 'ElonMusk.jpg', 'Jack Ma.jpg', 'NUSRATH.jpg', 'Parvin Akter.jpg']\n"
     ]
    }
   ],
   "source": [
    "myList = os.listdir(path)\n",
    "print(myList)"
   ]
  },
  {
   "cell_type": "code",
   "execution_count": 6,
   "id": "679fb5f4",
   "metadata": {},
   "outputs": [
    {
     "name": "stdout",
     "output_type": "stream",
     "text": [
      "['Billgates', 'ElonMusk', 'Jack Ma', 'NUSRATH', 'Parvin Akter']\n"
     ]
    }
   ],
   "source": [
    "for cl in myList:\n",
    "    curImg = cv2.imread(f'{path}/{cl}')\n",
    "    images.append(curImg)\n",
    "    classNames.append(os.path.splitext(cl)[0])\n",
    "print(classNames)    "
   ]
  },
  {
   "cell_type": "code",
   "execution_count": 7,
   "id": "6d708051",
   "metadata": {},
   "outputs": [],
   "source": [
    "def findEncodings(images):\n",
    "    encodeList = []\n",
    "    for img in images:\n",
    "        img = cv2.cvtColor(img,cv2.COLOR_BGR2RGB)\n",
    "        encode = face_recognition.face_encodings(img)[0]\n",
    "        encodeList.append(encode)\n",
    "    return encodeList"
   ]
  },
  {
   "cell_type": "code",
   "execution_count": 8,
   "id": "40da7ca8",
   "metadata": {},
   "outputs": [
    {
     "name": "stdout",
     "output_type": "stream",
     "text": [
      "Encoding Completed\n"
     ]
    }
   ],
   "source": [
    "encodeListKnown = findEncodings(images)\n",
    "#print(len(encodeListKnown))\n",
    "print(\"Encoding Completed\")"
   ]
  },
  {
   "cell_type": "code",
   "execution_count": 9,
   "id": "44567d82",
   "metadata": {},
   "outputs": [],
   "source": [
    "from datetime import datetime"
   ]
  },
  {
   "cell_type": "code",
   "execution_count": 10,
   "id": "fa304049",
   "metadata": {},
   "outputs": [],
   "source": [
    "def recordAttendance(name):\n",
    "    with open('attendance.csv','r+') as f:\n",
    "        myData = f.readlines()\n",
    "        nameList = []\n",
    "        #print(myData)\n",
    "        for line in myData:\n",
    "            entry = line.split(',')\n",
    "            nameList.append(entry[0])\n",
    "            #print (nameList)\n",
    "        if name not in nameList:\n",
    "            timendate = datetime.now()\n",
    "            time = timendate.strftime('%H:%M:%S')\n",
    "            f.writelines(f'\\n{name},{time}')"
   ]
  },
  {
   "cell_type": "code",
   "execution_count": null,
   "id": "13e8e668",
   "metadata": {},
   "outputs": [],
   "source": [
    "cap = cv2.VideoCapture(0)\n",
    "\n",
    "while True:\n",
    "    success, img = cap.read()\n",
    "    imgS = cv2.resize(img,(0,0),None, 0.25,0.25)\n",
    "    imgS = cv2.cvtColor(imgS,cv2.COLOR_BGR2RGB)\n",
    "    \n",
    "    facesCurFrame = face_recognition.face_locations(imgS)\n",
    "    encodeCurFrame = face_recognition.face_encodings(imgS,facesCurFrame)\n",
    "    \n",
    "    for encodeFace,faceLoc in zip(encodeCurFrame, facesCurFrame):\n",
    "        matches = face_recognition.compare_faces(encodeListKnown, encodeFace)\n",
    "        faceDist = face_recognition.face_distance(encodeListKnown, encodeFace)\n",
    "        #print(faceDist)\n",
    "        matchIndex = np.argmin(faceDist)\n",
    "        \n",
    "        if matches[matchIndex]:\n",
    "            name = classNames[matchIndex].upper()\n",
    "            #print(name)\n",
    "            y1,x2,y2,x1= faceLoc\n",
    "            y1,x2,y2,x1 = y1*4,x2*4,y2*4,x1*4\n",
    "            \n",
    "            cv2.rectangle(img,(x1,y1),(x2,y2),(0,255,0),2)\n",
    "            cv2.rectangle(img,(x1,y2-35),(x2,y2),(0,255,0),cv2.FILLED)\n",
    "            cv2.putText(img,name,(x1+6,y2-6),cv2.FONT_HERSHEY_COMPLEX,1,(255,255,255),2)\n",
    "            recordAttendance(name)\n",
    "        \n",
    "    cv2.imshow('webcam', img)\n",
    "    cv2.waitKey(1)"
   ]
  },
  {
   "cell_type": "code",
   "execution_count": null,
   "id": "3ed90b25",
   "metadata": {},
   "outputs": [],
   "source": [
    "cap = cv2.VideoCapture(0)\n",
    "\n",
    "while True:\n",
    "    success, img = cap.read()\n",
    "    imgS = cv2.resize(img,(0,0),None, 0.25,0.25)\n",
    "    imgS = cv2.cvtColor(imgS,cv2.COLOR_BGR2RGB)\n",
    "   # x = type(img)\n",
    "  #  print(x)\n",
    "   \n",
    "        \n",
    "    cv2.imshow('webcam', img)\n",
    "    cv2.waitKey(1)"
   ]
  },
  {
   "cell_type": "code",
   "execution_count": null,
   "id": "79172842",
   "metadata": {},
   "outputs": [],
   "source": []
  }
 ],
 "metadata": {
  "kernelspec": {
   "display_name": "Python 3 (ipykernel)",
   "language": "python",
   "name": "python3"
  },
  "language_info": {
   "codemirror_mode": {
    "name": "ipython",
    "version": 3
   },
   "file_extension": ".py",
   "mimetype": "text/x-python",
   "name": "python",
   "nbconvert_exporter": "python",
   "pygments_lexer": "ipython3",
   "version": "3.8.8"
  }
 },
 "nbformat": 4,
 "nbformat_minor": 5
}
